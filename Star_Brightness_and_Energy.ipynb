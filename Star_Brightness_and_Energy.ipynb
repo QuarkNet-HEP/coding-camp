{
  "nbformat": 4,
  "nbformat_minor": 0,
  "metadata": {
    "colab": {
      "provenance": [],
      "include_colab_link": true
    },
    "kernelspec": {
      "name": "python3",
      "display_name": "Python 3"
    }
  },
  "cells": [
    {
      "cell_type": "markdown",
      "metadata": {
        "id": "view-in-github",
        "colab_type": "text"
      },
      "source": [
        "<a href=\"https://colab.research.google.com/github/fizzixprof/coding-camp/blob/main/Star_Brightness_and_Energy.ipynb\" target=\"_parent\"><img src=\"https://colab.research.google.com/assets/colab-badge.svg\" alt=\"Open In Colab\"/></a>"
      ]
    },
    {
      "cell_type": "markdown",
      "metadata": {
        "id": "d_QtQS8liic8"
      },
      "source": [
        "**Objective**  \n",
        "In this activity students will investigate the possible relationship between brightness of stars and the energy stars emit."
      ]
    },
    {
      "cell_type": "markdown",
      "metadata": {
        "id": "zUoDKtfdk6ti"
      },
      "source": [
        "**Introduction**  \n",
        "We have discussed in class the differences between apparent magnitude and absolute magnitude. In this activity you will analyze a large data set and explore the relationship between absolute magnitude, apparent magnitude, and luminosity.   \n",
        "\n",
        "  \n",
        "Run the code below. to import all the modules you will need. Pay close attention to why each module is important."
      ]
    },
    {
      "cell_type": "code",
      "metadata": {
        "id": "P26iwb20icfY"
      },
      "source": [
        "#Importing all the stuff we'll need\n",
        "import pandas as pd #For data manipulation and analysis\n",
        "import numpy as np #MATH\n",
        "import matplotlib as mpl #Graphing\n",
        "import matplotlib.pyplot as plt #More Graphing"
      ],
      "execution_count": null,
      "outputs": []
    },
    {
      "cell_type": "markdown",
      "metadata": {
        "id": "RGtvApbVk5WI"
      },
      "source": [
        "# **Part I**  \n",
        "The code below will import a large set of data. We have named this data set using the variable \"stars\". In order to manipulate the data set from this point on we will need to clarify any function using this variable. Run the block of code below and consider the following questions.\n",
        "\n",
        "\n",
        "1.   What do you notice about the column headings on the data table? Are they easy to interpret?\n",
        "\n",
        "  \n",
        "  \n",
        "  \n",
        "\n"
      ]
    },
    {
      "cell_type": "code",
      "metadata": {
        "id": "6awy_UCwk4Q3"
      },
      "source": [
        "#Imports star data\n",
        "stars = pd.read_csv('https://github.com/adamlamee/CODINGinK12/raw/master/data/stars.csv')\n"
      ],
      "execution_count": null,
      "outputs": []
    },
    {
      "cell_type": "markdown",
      "metadata": {
        "id": "7G7iqRnr-qLS"
      },
      "source": [
        "2. How many data points are present in this data table? How can you find out?\n",
        "\n",
        "There are a couple of useful commands we can use to view our data. The first is **data.head(n)** which shows us the first n lines of the table. The second is **data.shape** which shows us the number of rows and columns in the data table. In the case of our data, since we have used the variable 'stars' these fuctions would look like **stars.head(n)** and **stars.shape**.\n",
        "\n",
        "Hover over the edge of these section where the text ends. You should see a line come up with two buttons to either **+add Code** or **+add Text**. Hover and click **+add Code**. Use the above commands to answer question #2."
      ]
    },
    {
      "cell_type": "code",
      "metadata": {
        "id": "tfzqUYoRASkC"
      },
      "source": [
        "stars.head(20)"
      ],
      "execution_count": null,
      "outputs": []
    },
    {
      "cell_type": "code",
      "metadata": {
        "id": "wbGRdSzwAV2w"
      },
      "source": [
        "stars.shape"
      ],
      "execution_count": null,
      "outputs": []
    },
    {
      "cell_type": "markdown",
      "metadata": {
        "id": "Zetu1Co8t8NE"
      },
      "source": [
        "# **Part II**\n",
        "Determine which columns in the data table represent apparant magnatude and which represent absolute magantude. Use the code block below to create a graph of apparent maganatude vs. absolute magnatude and consider the questions below.\n",
        "  \n",
        "Pay close attention to the code below. It is not complete. You need to complete it by filling in the column names of the data that you need. Don't forget your title and labels!\n",
        "\n",
        "1.   What do you think we can surmise from this graph?\n",
        "2.   Do you there there is a better graph we can make with the data we have?\n",
        "  \n",
        "\n"
      ]
    },
    {
      "cell_type": "code",
      "metadata": {
        "id": "ThYfqQ9As0dW"
      },
      "source": [
        "fig, ax = plt.subplots(figsize=(10,7))\n",
        "plt.scatter(stars['mag'], stars[\"absmag\"], marker = 'o', s= 10, color = 'red')\n",
        "plt.title(\"Absolute Magnitude vs. Magnitude\")\n",
        "plt.xlabel(\"Magnitude\")\n",
        "plt.ylabel(\"Absolute Magnitude\");\n",
        "# The semi-colon keeps from printing some unnecessary notes when you run this block of code. Think of it as the end of your block of code.\n",
        "# You can try taking it out and see what happens. Its not very exciting."
      ],
      "execution_count": null,
      "outputs": []
    },
    {
      "cell_type": "markdown",
      "metadata": {
        "id": "ZaHC1nTUxqUQ"
      },
      "source": [
        "# **Part III**\n",
        "\n",
        "One other piece of data we have is luminosity, or the energy emited from the star.\n",
        "  \n",
        "\n",
        "1.   How do you think the energy emited from a given star relates to the brightness of the star?\n",
        "  \n",
        "In this section you are going to create TWO graphs. You will compare BOTH absolute magnatude and apparent magnatude to luminosity. As with the graph above, the code is included but it is not complete. You must be careful to include the correct column names from the data table above. Please create both a luminosity vs. magnitude and a lumiosity vs. absolute magnitude graph.\n",
        "\n"
      ]
    },
    {
      "cell_type": "code",
      "metadata": {
        "id": "HcYsl38jy3UY"
      },
      "source": [
        "fig, ax = plt.subplots(figsize=(10,7))\n",
        "plt.scatter(stars['lum'], stars['mag'], marker = 'o', s= 10, color = 'pink') # You can change the color if you would like.\n",
        "plt.title(\"Luminosity vs. Apparent Magnitude\")\n",
        "plt.xlabel(\"Apparent Magnitude\")\n",
        "plt.ylabel(\"Luminosity\"); #Another semi-colon"
      ],
      "execution_count": null,
      "outputs": []
    },
    {
      "cell_type": "code",
      "metadata": {
        "id": "qJayaiCbzIGm"
      },
      "source": [
        "fig, ax = plt.subplots(figsize=(10,7))\n",
        "plt.scatter(stars['lum'], stars['absmag'], marker = 'o', s= 10, color = 'orange')\n",
        "plt.title(\"Luminosity vs. Absolute Magnitude\")\n",
        "plt.xlabel(\"Absolute Magnitude\")\n",
        "plt.ylabel(\"Luminosity\"); #Semi-Colons are cool."
      ],
      "execution_count": null,
      "outputs": []
    },
    {
      "cell_type": "markdown",
      "metadata": {
        "id": "UUMtw_dKzcaH"
      },
      "source": [
        "Consider the two graphs above.\n",
        "\n",
        "2.    What can we determine from the graphs above?\n",
        "3.    How do the two graphs compare in shape?\n",
        "4.     Consider the luminosity vs absolute magnitude graph. Recall what we have learned about magnitude. Which stars are the brightest? Does a negative magnitude mean it is a dim star?\n",
        "\n"
      ]
    },
    {
      "cell_type": "markdown",
      "metadata": {
        "id": "0fjYH2cC29zl"
      },
      "source": [
        "# **Part IV**\n",
        "Unfortunately, the graphs you have made in the previous sections, while they may allow us to see relationships between data to a certain extent, they are not as useful as scientists need them to be. When astomoners are graphing star data they use a specific kind of graph called a Hertzsprung-Russel Diagram.\n",
        "\n",
        "\n",
        "![hertzprung russel diagram](https://www.astronomynotes.com/starprop/hrdiag.gif)\n",
        "\n"
      ]
    },
    {
      "cell_type": "markdown",
      "metadata": {
        "id": "OvEoSZi_6_DH"
      },
      "source": [
        "A Hertzsprung- Russel diagram is a scatterplot of stars showing the relationship between luminosity or absolute magnitude vs stellar classification or effective tempurature. These types of graphs help astronomers understand the steps of stellar evolution. In the data table above, you have everything you need to create your own Hertzsprung-Russel Diagram. Use the block of code below and the image above as a guide to create your graph."
      ]
    },
    {
      "cell_type": "code",
      "metadata": {
        "id": "fMM5hXIA20Er"
      },
      "source": [
        "plt.scatter(stars[\"temp\"], stars[\"lum\"], s = 1, alpha = .5, edgecolors = \"none\")\n",
        "plt.xlabel('Temperature')\n",
        "plt.ylabel('Luminosity')\n",
        "plt.title('Luminosity vs. Temperature')\n",
        "plt.show()"
      ],
      "execution_count": null,
      "outputs": []
    },
    {
      "cell_type": "markdown",
      "metadata": {
        "id": "luSGE1uD7gHs"
      },
      "source": [
        "Does your graph look quite right? Does it look like the example give above? No? Maybe you should try playing around with your scales. You will notice on the image above that the x axis is inverted and y axis is on a logorythmic scale. Use the following commands in your code above to alter your axes.\n",
        "  \n",
        "**plt.yscale(\"log\")** \\\\\n",
        "**plt.gca().invert_xaxis()**\n",
        "\n",
        "  Does that look a little better compared to the image above? Congratulations! you just created your own Hertzsprung- Russell Diagram!"
      ]
    },
    {
      "cell_type": "code",
      "metadata": {
        "id": "S9UszCWUkLcT"
      },
      "source": [
        "ax = plt.axes()\n",
        "ax.set_facecolor(\"black\")\n",
        "\n",
        "#ax = plt.subplots(figsize=(12,6)) # Make your graph bigger!\n",
        "plt.scatter(stars[\"temp\"], stars[\"lum\"], c = stars[\"temp\"], cmap = \"gist_rainbow\", s = 1, alpha = .5, edgecolors = \"none\")\n",
        "plt.xlabel('Temperature')\n",
        "plt.ylabel('Luminosity')\n",
        "plt.title('Luminosity vs. Temperature')\n",
        "plt.yscale('log')\n",
        "plt.gca().invert_xaxis()\n",
        "plt.show()"
      ],
      "execution_count": null,
      "outputs": []
    },
    {
      "cell_type": "markdown",
      "source": [
        "This notebook is written by coding fellows Adam MaLee and Christine DiMenna.\n",
        "\n",
        "This work is licensed under a\n",
        "[Creative Commons Attribution-NonCommercial-ShareAlike 4.0 International License][cc-by-nc-sa].\n",
        "\n",
        "[![CC BY-NC-SA 4.0][cc-by-nc-sa-image]][cc-by-nc-sa]\n",
        "\n",
        "[cc-by-nc-sa]: http://creativecommons.org/licenses/by-nc-sa/4.0/\n",
        "[cc-by-nc-sa-image]: https://licensebuttons.net/l/by-nc-sa/4.0/88x31.png\n",
        "[cc-by-nc-sa-shield]: https://img.shields.io/badge/License-CC%20BY--NC--SA%204.0-lightgrey.svg\n"
      ],
      "metadata": {
        "id": "Iahn_WZFl7SY"
      }
    }
  ]
}