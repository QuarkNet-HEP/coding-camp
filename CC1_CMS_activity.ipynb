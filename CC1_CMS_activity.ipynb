{
  "cells": [
    {
      "cell_type": "markdown",
      "metadata": {
        "id": "view-in-github",
        "colab_type": "text"
      },
      "source": [
        "<a href=\"https://colab.research.google.com/github/Peter-Apps/coding-camp/blob/main/CC1_CMS_activity.ipynb\" target=\"_parent\"><img src=\"https://colab.research.google.com/assets/colab-badge.svg\" alt=\"Open In Colab\"/></a>"
      ]
    },
    {
      "cell_type": "markdown",
      "id": "31ca83e5",
      "metadata": {
        "id": "31ca83e5"
      },
      "source": [
        "# Coding Camp 1: Particle Decays in CMS  \n",
        "This notebook imports a data file from the CMS detector at CERN. It contains information on *events* seen in the CMS detector where two muons were observed. Run the code below to get familiar with the data. Then, work on the **Tasks** indicated below. Rememeber a few things:  \n",
        "- You won't hurt anything by experimenting. If you break it, close the tab and open the link again to start over.  \n",
        "- Is this your first time with Jupyter and Python? Need a refresher? Try the 5-minute [Intro to Jupyter activity](https://colab.research.google.com/github/QuarkNet-HEP/coding-camp/blob/main/intro.ipynb) and come back here.  \n",
        "- Your edits here will NOT SAVE automatically unless you save a copy to your drive"
      ]
    },
    {
      "cell_type": "code",
      "execution_count": 4,
      "id": "d6e5b44d",
      "metadata": {
        "id": "d6e5b44d"
      },
      "outputs": [],
      "source": [
        "# Installing some extra programs to help us (this may take a minute the first time this is run)\n",
        "!pip -q install gdown==4.6.0\n",
        "import gdown\n",
        "\n",
        "import pandas as pd\n",
        "import numpy as np\n",
        "import matplotlib as mpl\n",
        "import matplotlib.pyplot as plt"
      ]
    },
    {
      "cell_type": "code",
      "execution_count": null,
      "id": "9a1beb61",
      "metadata": {
        "id": "9a1beb61"
      },
      "outputs": [],
      "source": [
        "# Load in the dimuon data set from Google Drive\n",
        "muon_csv_id = '1UIgcmWP6Jzk2CX2aZqG9cSzR5vGBbQjk'\n",
        "file_name = \"Muons.csv\"\n",
        "gdown.download(id=muon_csv_id, output=file_name)\n",
        "muons = pd.read_csv(file_name)\n"
      ]
    },
    {
      "cell_type": "code",
      "execution_count": null,
      "id": "f0203e29",
      "metadata": {
        "id": "f0203e29"
      },
      "outputs": [],
      "source": [
        "muons.head(3)"
      ]
    },
    {
      "cell_type": "code",
      "execution_count": null,
      "id": "f77aa951",
      "metadata": {
        "id": "f77aa951"
      },
      "outputs": [],
      "source": [
        "muons.shape"
      ]
    },
    {
      "cell_type": "code",
      "execution_count": null,
      "id": "618824e3",
      "metadata": {
        "id": "618824e3"
      },
      "outputs": [],
      "source": [
        "muons.columns"
      ]
    },
    {
      "cell_type": "markdown",
      "id": "d3f4c811",
      "metadata": {
        "id": "d3f4c811"
      },
      "source": [
        "The columns in the CMS data files are:\n",
        "- **E**: energy, in GeV\n",
        "- **px, py, pz**: cartesian components of momentum, in GeV/c\n",
        "- **pt**: tranverse momentum (in the x-y plane, perpendicular to the beam pipe), in GeV/c\n",
        "- **phi**: polar coordinate of the initial trajectory in the transverse plane, in radians\n",
        "- **eta**: a function of the initial trajectory's angle with respect to the beam pipe (like theta), called *pseudorapidity*. Eta is a function of theta where eta = 0 is the transverse plane and eta = +/- infinity at the beam pipe\n",
        "- **Q**: charge, in units of fundamental charge, e\n",
        "- **E1, px2, etc**: properties of one of multiple particles detected\n",
        "\n",
        "Here are some [images of the geometry of the CMS detector](https://tikz.net/axis3d_cms/)."
      ]
    },
    {
      "cell_type": "markdown",
      "id": "70cf66fc",
      "metadata": {
        "id": "70cf66fc"
      },
      "source": [
        "# Task: What data is contained in the file?  \n",
        "Replace this text with a *brief description* of the information contained in the file we loaded and named **muons**."
      ]
    },
    {
      "cell_type": "markdown",
      "id": "d69b99f6",
      "metadata": {
        "id": "d69b99f6"
      },
      "source": [
        "## Visualizing data\n",
        "Here are two examples of type of plots to visualize the muons data."
      ]
    },
    {
      "cell_type": "code",
      "execution_count": null,
      "id": "6e10d313",
      "metadata": {
        "id": "6e10d313"
      },
      "outputs": [],
      "source": [
        "# makes a histogram\n",
        "plt.hist(muons['mass'], bins=200, range=[0,120], log=False)\n",
        "plt.title(\"Invariant Mass in Dimuon Events\")\n",
        "plt.xlabel(\"Invariant Mass, GeV/c^2)\")\n",
        "plt.ylabel(\"number of events\")\n",
        "plt.show()"
      ]
    },
    {
      "cell_type": "code",
      "execution_count": null,
      "id": "a42fb711",
      "metadata": {
        "id": "a42fb711"
      },
      "outputs": [],
      "source": [
        "# makes a scatterplot\n",
        "plt.scatter(muons['phi1'], muons['eta2'], s=0.1, alpha=0.1) # probably not useful quantities to compare\n",
        "plt.title(\"Comparing eta2 vs phi1\")\n",
        "plt.xlabel(\"phi, in radians\")\n",
        "plt.ylabel(\"eta\")\n",
        "plt.show()"
      ]
    },
    {
      "cell_type": "markdown",
      "id": "9d0e8dc6",
      "metadata": {
        "id": "9d0e8dc6"
      },
      "source": [
        "## Making Cuts\n",
        "In case you want to filter the data by some criteria, here's an example of that followed by making new plots with the filtered data."
      ]
    },
    {
      "cell_type": "code",
      "execution_count": null,
      "id": "0fd94250",
      "metadata": {
        "id": "0fd94250"
      },
      "outputs": [],
      "source": [
        "# Making cuts on your data (i.e., filtering your data set)\n",
        "filtered = muons.copy()\n",
        "filtered = filtered.query('pt1 > 5 & pt2 > 5')\n",
        "filtered = filtered.query('eta1 < 3 & eta1 > -3')\n",
        "filtered = filtered.query('Q1 != Q2')\n",
        "filtered.shape"
      ]
    },
    {
      "cell_type": "code",
      "execution_count": null,
      "id": "2fd11c66",
      "metadata": {
        "id": "2fd11c66"
      },
      "outputs": [],
      "source": [
        "# makes a histogram\n",
        "plt.hist(filtered['mass'], bins=200, range=[0,120], log=False, histtype='step')\n",
        "plt.title(\"Invariant Mass in Dimuon Events\")\n",
        "plt.xlabel(\"Invariant Mass, GeV/c^2)\")\n",
        "plt.ylabel(\"number of events\")\n",
        "plt.grid(False)\n",
        "plt.annotate(\"Z boson @ 91 GeV\", xy=(91, 7500), xytext=(80, 10000), arrowprops=dict(facecolor='black', shrink=0.05))\n",
        "plt.show()"
      ]
    },
    {
      "cell_type": "code",
      "execution_count": null,
      "id": "dcb828f3",
      "metadata": {
        "id": "dcb828f3"
      },
      "outputs": [],
      "source": [
        "# makes a scatterplot\n",
        "plt.scatter(filtered['phi1'], filtered['eta2'], s=0.1, alpha=0.1) # probably not useful quantities to compare\n",
        "plt.title(\"Comparing eta2 vs phi1\")\n",
        "plt.xlabel(\"phi, in radians\")\n",
        "plt.ylabel(\"eta\")\n",
        "plt.show()"
      ]
    },
    {
      "cell_type": "markdown",
      "id": "6b05dfd2",
      "metadata": {
        "id": "6b05dfd2"
      },
      "source": [
        "## Tasks:\n",
        "Conduct your own investigation into the muons data and make a visualization to communicate some pattern you find. Participants will have a chance to share their notebooks with the group. For your notebook, do the following:\n",
        "- Choose one type of plot to make to visualize some part of the dimuon data. This notebook already includes examples of making a histogram and scatterplot. You could choose one, delete the other, or create a different [type of plot](https://matplotlib.org/stable/plot_types/index.html).\n",
        "- Add at least one annotation to your plot. For more ways to stype your annotation, see the [Pyplot.annotate documentation page](https://matplotlib.org/stable/tutorials/text/annotations.html#sphx-glr-tutorials-text-annotations-py).\n",
        "- Customize the formatting of your plot. See the documentation page for [Pyplot.hist](https://matplotlib.org/stable/api/_as_gen/matplotlib.pyplot.hist.html), [Pyplot.scatter](https://matplotlib.org/stable/api/_as_gen/matplotlib.pyplot.scatter.html), the [matplotlib list of named colors](https://matplotlib.org/stable/gallery/color/named_colors.html), and the [Pyplot tutorial page](https://matplotlib.org/stable/tutorials/introductory/pyplot.html) for ideas.\n",
        "- Add a comment at the beginning of each block of code in your notebook.\n",
        "- Add a descriptive comment at the end of each line of code in this notebook.\n",
        "- Add text (markdown) cells to narrate your analysis in this notebook. Claim-Evidence-Reasoning format works great here."
      ]
    },
    {
      "cell_type": "markdown",
      "id": "66080bb5",
      "metadata": {
        "id": "66080bb5"
      },
      "source": [
        "---\n",
        "## Saving Your Work\n",
        "This is running on a Google server on a distant planet and deletes what you've done when you close this tab. To save your work for later use or analysis you have a few options:\n",
        "- File > Save a Copy to Drive (*Best option*)\n",
        "- File > Download .ipynb to save to your computer (and run with Jupyter software)\n",
        "- File > Download .py to save to your computer (and run with any Python software)\n",
        "- File > Print to ... um ... print.\n",
        "- Save an image to your computer of a graph or chart, right-click on it and select Save Image as ..."
      ]
    },
    {
      "cell_type": "markdown",
      "source": [
        "This work is licensed under a\n",
        "[Creative Commons Attribution-NonCommercial-ShareAlike 4.0 International License][cc-by-nc-sa].\n",
        "\n",
        "[![CC BY-NC-SA 4.0][cc-by-nc-sa-image]][cc-by-nc-sa]\n",
        "\n",
        "[cc-by-nc-sa]: http://creativecommons.org/licenses/by-nc-sa/4.0/\n",
        "[cc-by-nc-sa-image]: https://licensebuttons.net/l/by-nc-sa/4.0/88x31.png\n",
        "[cc-by-nc-sa-shield]: https://img.shields.io/badge/License-CC%20BY-"
      ],
      "metadata": {
        "id": "Y5kURW5zUGSQ"
      },
      "id": "Y5kURW5zUGSQ"
    }
  ],
  "metadata": {
    "kernelspec": {
      "display_name": "Python 3 (ipykernel)",
      "language": "python",
      "name": "python3"
    },
    "language_info": {
      "codemirror_mode": {
        "name": "ipython",
        "version": 3
      },
      "file_extension": ".py",
      "mimetype": "text/x-python",
      "name": "python",
      "nbconvert_exporter": "python",
      "pygments_lexer": "ipython3",
      "version": "3.9.15"
    },
    "colab": {
      "provenance": [],
      "include_colab_link": true
    }
  },
  "nbformat": 4,
  "nbformat_minor": 5
}