{
  "nbformat": 4,
  "nbformat_minor": 0,
  "metadata": {
    "colab": {
      "private_outputs": true,
      "provenance": [],
      "authorship_tag": "ABX9TyP20B5ymlosd7QXHVJgigOW",
      "include_colab_link": true
    },
    "kernelspec": {
      "name": "python3",
      "display_name": "Python 3"
    },
    "language_info": {
      "name": "python"
    }
  },
  "cells": [
    {
      "cell_type": "markdown",
      "metadata": {
        "id": "view-in-github",
        "colab_type": "text"
      },
      "source": [
        "<a href=\"https://colab.research.google.com/github/Peter-Apps/coding-camp/blob/main/Fellows_Pair_Programming_Demo.ipynb\" target=\"_parent\"><img src=\"https://colab.research.google.com/assets/colab-badge.svg\" alt=\"Open In Colab\"/></a>"
      ]
    },
    {
      "cell_type": "markdown",
      "source": [
        "# Task 1 - Turn on line numbers in your coding cells"
      ],
      "metadata": {
        "id": "0kWm0QHSecxE"
      }
    },
    {
      "cell_type": "code",
      "execution_count": null,
      "metadata": {
        "id": "iIrMcRNWeaAo"
      },
      "outputs": [],
      "source": [
        "# This is on line 1\n",
        "\n",
        "\n",
        "\n",
        "# What line number is this on?"
      ]
    },
    {
      "cell_type": "markdown",
      "source": [
        "# Task 2 - Find out how to enable or disable the AI suggestions"
      ],
      "metadata": {
        "id": "m2zx6qFPelJR"
      }
    },
    {
      "cell_type": "markdown",
      "source": [
        "# Task 3 - Use Python to find the answer to $7 * 5 + 3$"
      ],
      "metadata": {
        "id": "VGFc17CbeqNY"
      }
    },
    {
      "cell_type": "code",
      "source": [],
      "metadata": {
        "id": "gqVJqB3_exvB"
      },
      "execution_count": null,
      "outputs": []
    },
    {
      "cell_type": "markdown",
      "source": [
        "# Task 4 - Create a variable called `name` and set it equal to your name"
      ],
      "metadata": {
        "id": "MeU77ltzeyI4"
      }
    },
    {
      "cell_type": "code",
      "source": [],
      "metadata": {
        "id": "qn2F_UAnfA4Y"
      },
      "execution_count": null,
      "outputs": []
    },
    {
      "cell_type": "markdown",
      "source": [
        "# Task 5 - Edit the code below so it prints out the value that was stored in `name`"
      ],
      "metadata": {
        "id": "BvHwgkaufBNV"
      }
    },
    {
      "cell_type": "code",
      "source": [
        "print('Name')"
      ],
      "metadata": {
        "id": "9TOFpzsefQ_8"
      },
      "execution_count": null,
      "outputs": []
    },
    {
      "cell_type": "markdown",
      "source": [
        "The development and implementation of these materials and workshop were additionally funded by generous support from IRIS-HEP, the [Institute for Research and Innovation in Software for High Energy Physics](https://iris-hep.org/).\n",
        "\n",
        "This work is licensed under a\n",
        "[Creative Commons Attribution-NonCommercial-ShareAlike 4.0 International License][cc-by-nc-sa].\n",
        "\n",
        "[![CC BY-NC-SA 4.0][cc-by-nc-sa-image]][cc-by-nc-sa]\n",
        "\n",
        "[cc-by-nc-sa]: http://creativecommons.org/licenses/by-nc-sa/4.0/\n",
        "[cc-by-nc-sa-image]: https://licensebuttons.net/l/by-nc-sa/4.0/88x31.png\n",
        "[cc-by-nc-sa-shield]: https://img.shields.io/badge/License-CC%20BY--NC--SA%204.0-lightgrey.svg"
      ],
      "metadata": {
        "id": "4W4i8a5Tfamp"
      }
    }
  ]
}