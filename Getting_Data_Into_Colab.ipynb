{
  "nbformat": 4,
  "nbformat_minor": 0,
  "metadata": {
    "colab": {
      "private_outputs": true,
      "provenance": [],
      "authorship_tag": "ABX9TyNxzdeTPrTTv52WMhoPG5sS",
      "include_colab_link": true
    },
    "kernelspec": {
      "name": "python3",
      "display_name": "Python 3"
    },
    "language_info": {
      "name": "python"
    }
  },
  "cells": [
    {
      "cell_type": "markdown",
      "metadata": {
        "id": "view-in-github",
        "colab_type": "text"
      },
      "source": [
        "<a href=\"https://colab.research.google.com/github/Peter-Apps/coding-camp/blob/main/Getting_Data_Into_Colab.ipynb\" target=\"_parent\"><img src=\"https://colab.research.google.com/assets/colab-badge.svg\" alt=\"Open In Colab\"/></a>"
      ]
    },
    {
      "cell_type": "markdown",
      "source": [
        "# Getting Data into Colab\n"
      ],
      "metadata": {
        "id": "Ih5kuPm_uoNS"
      }
    },
    {
      "cell_type": "markdown",
      "source": [
        "There are several ways to get data into colab. In this notebook we'll go over 4 common ways you can get data loaded. These are not the only ways to do this, and each way has it's own pros & cons.\n",
        "\n",
        "If you find another way to do this that works well, please let us know!"
      ],
      "metadata": {
        "id": "Njnrr650ut51"
      }
    },
    {
      "cell_type": "markdown",
      "source": [
        "# I have a local file (csv or xslx)"
      ],
      "metadata": {
        "id": "s8fV3m2uuMun"
      }
    },
    {
      "cell_type": "markdown",
      "source": [
        "1. Click the folder icon on the left side of the page\n",
        "2. Select and upload your file (drag & drop)\n",
        "3. Hover over the file and click on the 3 dots. Choose copy path\n",
        "4. Use the code below to import the data. (Use pd.read_xls if you have an excel file or pd.read_csv)"
      ],
      "metadata": {
        "id": "XsTTMcTpulyg"
      }
    },
    {
      "cell_type": "code",
      "execution_count": null,
      "metadata": {
        "id": "KBX-H6_buKt8"
      },
      "outputs": [],
      "source": [
        "import pandas as pd\n",
        "\n",
        "file_path = \"Replace this with the path you copied\"\n",
        "\n",
        "data = pd.read_csv(file_path)"
      ]
    },
    {
      "cell_type": "markdown",
      "source": [
        "# I have a file in my Google Drive"
      ],
      "metadata": {
        "id": "KFKqcTswzhl2"
      }
    },
    {
      "cell_type": "markdown",
      "source": [
        "## Option 1 - Use gdown"
      ],
      "metadata": {
        "id": "cGu1XoCu4SjU"
      }
    },
    {
      "cell_type": "markdown",
      "source": [
        "There are many ways to load a csv file in from Drive. This way involves a library called gdown that lets you download public (anyone with the link can view) files without needing to mount your drive or authenticate with Google.  This works best with csv, zip or xslx files."
      ],
      "metadata": {
        "id": "2Wx--51I1I_a"
      }
    },
    {
      "cell_type": "markdown",
      "source": [
        "1. In Google Drive, set the sharing settings so that anyone with the link can view.\n",
        "2. Copy the sharing link.\n",
        "3. From the sharing link, find the file ID. It is a string of characters after the d/ and before the /view.\n",
        "\n",
        "> For example if the sharing link is:\n",
        "> https://drive.google.com/file/d/1up9ffCff84H19Zpv9BG7Igj003C-tQY9/view?usp=sharing\n",
        "> The file ID is 1up9ffCff84H19Zpv9BG7Igj003C-tQY9\n",
        "\n",
        "4. Replace the file_id and file_name in the code below"
      ],
      "metadata": {
        "id": "LRseXgwazo4i"
      }
    },
    {
      "cell_type": "code",
      "source": [
        "# Installing some extra programs to help us.\n",
        "# The gdown program works well for downloading large files from Google Drive\n",
        "!pip -q install gdown==4.6.0\n",
        "import gdown\n",
        "\n",
        "file_name = \"The name of the file\"\n",
        "file_id = \"The File ID from the sharing link\"\n",
        "\n",
        "# Download the file from Google Drive\n",
        "gdown.download(id=file_id, output=file_name)\n",
        "data = pd.read_csv(file_name)"
      ],
      "metadata": {
        "id": "To2kt9K60U6r"
      },
      "execution_count": null,
      "outputs": []
    },
    {
      "cell_type": "markdown",
      "source": [
        "## Option 2 - Mount your drive"
      ],
      "metadata": {
        "id": "kuKAKR9V2CPr"
      }
    },
    {
      "cell_type": "markdown",
      "source": [
        "This will connect your Google Drive to Colab and have it show up in the folder icon on the left hand side of the page. You'll have to authorize this each time you open the notebook.\n",
        "\n",
        "1. Run the code block below to authorize mounting your drive."
      ],
      "metadata": {
        "id": "6-NV94Rb2Y1c"
      }
    },
    {
      "cell_type": "code",
      "source": [
        "from google.colab import drive\n",
        "drive.mount('/content/gdrive')\n",
        "%cd /gdrive"
      ],
      "metadata": {
        "id": "7hNDiX8w2ByK"
      },
      "execution_count": null,
      "outputs": []
    },
    {
      "cell_type": "markdown",
      "source": [
        "2. Use the file folder on the left hand side to navigate through your drive to find the file you want to open. (start in the gdrive folder)\n",
        "3. When you find the file, hover over it and click the 3 dots at the edge of the window.\n",
        "4. Choose Copy Path\n",
        "5. Replace the file path in the code cell below."
      ],
      "metadata": {
        "id": "ZJSmWOen2qNo"
      }
    },
    {
      "cell_type": "code",
      "source": [
        "file_path = \"Replace this with the path you copied\"\n",
        "\n",
        "# This is just an example of what your path may look like\n",
        "#file_path = \"/content/gdrive/MyDrive/School Files/Physics Stuff/Regents Physics/Physics Labs/Circ vs Diameter Data.csv\"\n",
        "\n",
        "data = pd.read_csv(file_path)"
      ],
      "metadata": {
        "id": "etd9fT0P3mIk"
      },
      "execution_count": null,
      "outputs": []
    },
    {
      "cell_type": "markdown",
      "source": [
        "# I have a Google Sheet that I want to use"
      ],
      "metadata": {
        "id": "eaKohk281kiU"
      }
    },
    {
      "cell_type": "markdown",
      "source": [
        "## Option 1 - Publish to the Web (No need for permissions)"
      ],
      "metadata": {
        "id": "Mp10MWi11ocY"
      }
    },
    {
      "cell_type": "markdown",
      "source": [
        "1. Open the file.\n",
        "\n",
        "2. Go to File: Share: Publish to Web\n",
        "\n",
        "3. In the pop up menu, change \"Web Page\" to \"Comma Separated Values\"\n",
        "\n",
        "4. Click Publish and then OK\n",
        "\n",
        "5. Copy the link in the box to paste into your code."
      ],
      "metadata": {
        "id": "PdJDB7cX14qT"
      }
    },
    {
      "cell_type": "code",
      "source": [
        "data = pd.read_csv('https://docs.google.com/spreadsheets/d/e/2PACX-1vTmpSAdFQB1M73boFB25ACPdhW2w2RAqtycUJix51KFVsJJyPKh8lU33qn7os1G1A/pub?output=csv')\n",
        "data.head(5)"
      ],
      "metadata": {
        "id": "4KOD-pSTBN6y"
      },
      "execution_count": null,
      "outputs": []
    },
    {
      "cell_type": "markdown",
      "source": [
        "## Option 2 - Use the code snippet"
      ],
      "metadata": {
        "id": "jjCrZyNk4mKF"
      }
    },
    {
      "cell_type": "markdown",
      "source": [
        "This is a premade snippet from Colab. You can get it by clicking the < > button on the left hand side of the page and searching for Google Sheet.\n",
        "\n",
        "You'll have to authorize this each time you open the notebook."
      ],
      "metadata": {
        "id": "7LOi8e9j4sD-"
      }
    },
    {
      "cell_type": "markdown",
      "source": [
        "1. Replace \"Your Spreadsheet Name\" with the name of your spreadsheet (if it's unique)\n",
        "\n",
        "2. If your spreadsheet name is not unique, Replace that line with:\n",
        "`worksheet = gc.open_by_url(\"The URL of your spreadsheet\")`\n",
        "\n",
        "3. If your data is not on the sheet named 'Sheet1', replace `.sheet1` with:\n",
        "`.worksheet(\"Name of Sheet with Data\")`.\n",
        "\n"
      ],
      "metadata": {
        "id": "EeRShaLC5Kh0"
      }
    },
    {
      "cell_type": "code",
      "source": [
        "# This is an example. If you run this block it will error\n",
        "\n",
        "# All these changes would be on line 10 in the block below\n",
        "\n",
        "# If I have a sheet named 'Circ vs Diameter Data' and the data is on Sheet1\n",
        "worksheet = gc.open('Circ vs Diameter Data').sheet1\n",
        "\n",
        "# If I have a sheet named 'Circ vs Diameter Data'\n",
        "# and the data is on a tab called Data\n",
        "worksheet = gc.open('Circ vs Diameter Data').worksheet(\"Data\")\n",
        "\n",
        "# If I have a sheet named Untitled Document and have many versions of that file\n",
        "# and the data is stored on Sheet1\n",
        "worksheet = gc.open_by_url('https://docs.google.com/spreadsheet/ccc?key=0Bm...FE&hl').sheet1"
      ],
      "metadata": {
        "id": "IzymS7qm6R7_"
      },
      "execution_count": null,
      "outputs": []
    },
    {
      "cell_type": "code",
      "source": [
        "from google.colab import auth\n",
        "auth.authenticate_user()\n",
        "\n",
        "import gspread\n",
        "from google.auth import default\n",
        "creds, _ = default()\n",
        "\n",
        "gc = gspread.authorize(creds)\n",
        "\n",
        "# Open the spreadsheet, see above block for examples that\n",
        "# may better match your sheet\n",
        "worksheet = gc.open('Your spreadsheet name').sheet1\n",
        "\n",
        "# get_all_values gives a list of rows.\n",
        "rows = worksheet.get_all_values()\n",
        "print(rows)\n",
        "\n",
        "# Convert to a DataFrame and render.\n",
        "import pandas as pd\n",
        "pd.DataFrame.from_records(rows)"
      ],
      "metadata": {
        "id": "-uruoWTv42Q9"
      },
      "execution_count": null,
      "outputs": []
    },
    {
      "cell_type": "markdown",
      "source": [
        "## Option 3 - Use an extension for Chrome"
      ],
      "metadata": {
        "id": "wvQOuzoG-r0J"
      }
    },
    {
      "cell_type": "markdown",
      "source": [
        "This is a fairly new option, and I can't guarentee your IT department will let students install it. It adds an option to a Google Sheet to move its data into a Colab Notebook. Check it out [here](https://workspace.google.com/u/0/marketplace/app/sheets_to_colab/945625412720)"
      ],
      "metadata": {
        "id": "IcOhrpxd-wCd"
      }
    },
    {
      "cell_type": "markdown",
      "source": [
        "# Load files from Github"
      ],
      "metadata": {
        "id": "L5OYaWX_72e0"
      }
    },
    {
      "cell_type": "markdown",
      "source": [
        "Hosting files in Github makes them easily accessible to Colab to import in.\n",
        "\n",
        "This works best for datasets you have already curated and will use the same set each year.\n",
        "\n",
        "To create or save files in Github, you'll need to [create an account](https://docs.github.com/en/get-started/start-your-journey/creating-an-account-on-github), then you can [upload files](https://docs.github.com/en/repositories/working-with-files/managing-files/adding-a-file-to-a-repository)"
      ],
      "metadata": {
        "id": "FBmqH3tD7_36"
      }
    },
    {
      "cell_type": "markdown",
      "metadata": {
        "id": "aLQ9gJhe2Zp6"
      },
      "source": [
        "1. Once you have uploaded a file, navigate to it in your repository.\n",
        "2. Open the file and click on the RAW link.\n",
        "![Selection_015.png](data:image/png;base64,iVBORw0KGgoAAAANSUhEUgAABCMAAADSCAIAAAD/rJ0wAAAAA3NCSVQICAjb4U/gAAAAEHRFWHRTb2Z0d2FyZQBTaHV0dGVyY4LQCQAAIABJREFUeNrt3XlczPkfB/D3TNNM1xQd6BAVlaNTjg6akiNXZbHue90/902InFmLtda6N3LEUq7kqNCxS0ihcpTSsWomNKnmqO/vj2JFrGWQej0fHh7Nd759vp/v5/vtO5/XfD/f75fFMAwBAAAAAAAoFBtNAAAAAAAASBoAAAAAAICkAQAAAAAASBoAAAAAAABIGgAAAAAAgKQBAAAAAABIGgAAAAAAAEgaAAAAAABQg3DQBAAAAADweeXmUloaPXxIubmUn09CIYlEJBSSUEjl5VRYSGVlJJNRURERkYYGKSuTkhJpahKbTbq6pKtLOjqkq0sNGpC+Ppmakqkp6eujXWs4Fp4RDgAAAACKlJlJN2/SzZt06xbdv09paVRSovilqKqSmRk1b07W1mRnR3Z2ZGyMtkfSAAAAAIBaRCqlq1cpMpKioyk+ngoKvk41dHSoTRvq2JHc3KhdO1JWxpZB0gAAAACAb1ByMoWE0MWLFBdHxcXvmVHG1y41NCvRN5XoGcnqN5Bq6cm0dCv+kZKSXF2LYbEZjnKZqgYRKZUUseQyFlPOefGcysqUnwsr/nGf5ys/zePlPVbNTVPJSVMWvzfPqKuTkxN17kw+PmRujm2FpAEAAAAANV58PB0/TseOUUpKte/L+fWLmtmKm9kVNbcrbtqyRN9UrlFP4bXgFD1TzU1Te3RX4/5N/oObGvdvcoqeVT9ry5bk40M+PtSmDbYekgYAAAAA1DB5eRQYSLt2VRswSgybPbMVPLMVPG/lVKpv8lUqqJKbrnUntl5CVL2EKNXsB9XM0aIFjRlDw4ZRgwbYnl8/aYiePi8plZaXl6OlAAAAAOomlegrGr/vVT1/jiWXvT5dzlP7284ju61nXutOJdo1605QqqKchrcvG8SHNbp5kSOpMrKLUVYu6dKtaMTIUmcXbNyvljRy80RsFktFRYXDUWKz8eQNAAAAgLqEYZROnuQErGVfu1YlYKhr5Tl5PXH2ErXpUsZTreEroSQp0bl+vmFMaIOYEE5x4etvlbdtJ587r6xXL2KxsLUVrry8/J1JIzdPxOFwNNTV0EwAAAAAdY3SsWOclSvYd+68PvFpa5csz9FPOn1Xxvv2uohKpS8aXf7DKGxXvTuxVTrErVrJF/mW9e2Lja5w1ScN0dNCeVmZJl8DDQQAAABQp7Bv3lSeM5sdfeXVlDKeanb3UZlek18Y1YabOKlnphiH/mIUvpctLf0nb3TsJAtYX25rix3gsyeN7Nx8DQ11Lhc3IQYAAACoM/3Cp0+VF8xXCvydXl6jK1fTfNxnwiOfqdL6DWvZyvIK/m5ybFPjU9v/GVLFZstHjpKvWs3Uq4ed4TMmjczsJzra9XBtBgAAAEAdwY64yP1hLCs7u+JlOYeb6T05bfACmUb9WrzWykVPTYNWGYduZculFVMYIyPpzl3lAjfsEp8xaejpaqN1AAAAAGq/0lJl38WcLT/Ty25hnmPv1HHrig2b1ZEGUM+6b/HbHL2/Tr9MXWz5/6bKlq8gHg97B5IGAAAAAHxUX1Ak5Pbrx46rvEhaWq/B7Zm/5XfoVQebokFsaKufJnKf51e8LHd2kR45wmjrYCf5aBgfBQAAAFBXY8bDhzw3wauYIXToGrstvm7GDCLKc/KK2ZGQ59i7spccE81zcWalpmI/+fgdDOc0AAAAAOog9q1bXM9urIICImLYSqnj1mX0nfqJZZaUlEhLJTK57Ks/95lFH/uIDIZpEbbd/pA/iyknorJ69bL27ZdYWCq+/ZWUeFyuqqqqukatvd0rkgYAAABAncNKS+O5CVhP/iaiMhX1xAX7Xn2X/3HKysrEhYUsFktTU5Oj9PUf+pyTk2tg8PGPLde5drb18u+VisVERA0alEVdInMF3+G3rLxcJpM/fVpQVs5oa2tzOBwkDQAAAAD4xvt/f+fy3ASs9HQikvG149eEFTa3/8QynxYUqKqqamhovOup0F/Y37l/N9Jv9CklaN6Lt5vXXVn8lIgYUzP5pUvUqJHitwWLVVBQUFxc0vAzFP7V4ToNAAAAgLqkvJw7fHhFzCjjqd30O/bpMaOkpITNYtecmKEQheYOCatOl6moExEr7SFn4PdUVqbwpTAMo62tzWazi4qKkDQAAAAA4BvGWR/AvnyJiBiOcsKS4KetnT+9zNKSEg1+rYoZFZ63aJ/ke5hR4hARKyaG/dOGz7EUhmHq169X/OJFLdzZ8PcGb8sXFmD4HAAAQO3DTkhQ9l9R8fPDoYuFbbsppFi5vKxWXmZARML2nulDF5v+voyIlJYtY7p1Z6ysFN8j53CkMpkCaisS6eoo+La80XF/HTpyvLi4hIjU1FQH9vdxcWyPpAEAAAAAVXt+S3xJKiWiZ62c0gbOU1SxDFP+1S8B/3zShy6qfzOifuJlkkiUfBfLQ0I/R9JgPu1uXRmPs3/ZtlMoKujSWTCov48C63Yw+JhxYyNL82ZElHLvwaEjxz88aWD0FAAAAECdwI6PVzoXTkSMEuf2rJ0MWwlt8kE5isVOmfFrRXOxzpxh3bhR02qY8Tg74KefXxQX29pYnb8YdSD4mAILLykptTRv5tXL06uXp6V5s4qTG18raQjPzvR0X5f4xlQW5ZyY4t56zAlhxcvry93snJw7Cpw7Cpw7dvshOPvdBUoiF3g6dxTYtxsXImaqlpmxa6DL2LDSL7MJxdfX9BqwPlFSZWLO0YnthgW9XftHe4bZtVsQ8Z9XtnqsR4FDPATO7Z3c/BM/rvIscdwKn8Ebbim2rYTxm6f26ejk0LFb3+lBt8T/VgfJjRU93GZG/7MRpamnFg/v7tzeyanHSL+w9zVL0nrvV+v+6MDoTgM2J0qIFbvY2c7B2s7Job1A8P2sfbcKcSgEAAB4D87a1RU/5LoNfGHUHA3y4V40tnzi9j0REcOwV6+qgTGjuLhk7sypUyeOtbWxuhBx6UVx8ScWu9R/7egJ00ZPmEZEoafOVvwceuosEVX8PHeR37/vcgpcT0lOUvi2NT/FPGd991afNHzrvjR1enlTY4m4SOy4JGZrd96/l8pzWx0WS5fmdDzwZr6kRl6rd3XXVfkCm5AlubfLP95h4X7rVzUW58Sf+GX5tlulTV3enDn32NoTzzTJ6L+v7DuSdNPhQReGP9ozbFT2x5bAd5w+7bTPyoM+waNMFBW9ojbOCqu/5HhMZ37uiQVjZvxqFTHX+l27hij10s6ALWdFTPt/guK9rfO35A36NSLQRJr006iJy0PabvPW/ZeH7EiTfpq9S33yvv9VbAhZ88mhwaNMSJx6YO7w+dttwmZb41gIAABQ/Se3WCk8nIgYFjtt0Hy0x3+VPmRho4iDxDDssLCyoiKqGY/bexUziOhiRFRnd8G9+w8szJupq6l9YsldOgtEooL3zKCj8+/X9CosabByj02ffIIjGLuk3661VW88wBLHbQjiTJpgPTf0VdKQMHw+7xMWl/Tz0KnBWVKptMWyiJ2eFWFDcnam55nWkzWvn0vPyXnWZMSWjf1MiIiEMZuXrz2RKuVy1ax+WLW8jyWPiIQxAYvXRmYTkXLTvvPWjmrHf9/iCqN2HNUeeLityqte8k+TFyY08Zm3iLs06M1UFbLuZNOpg0p9kz5iZaWpxxYv2ZMoJYZ02oxcusrrPblAGLN5+dqz6VIiNfOBS1cMseETkTh+t9/ao0lCMalb9VyyfGo73cq5NQU/DPp1/JboQT+6KCibaXeYtNiusy6LyMDNzXxhWI6ErKtdTXH4isG7n7uNmj+aFt95FX4kXOvB8736m/CIVKxcbTSj04REuu/dx8Rxy+dFNFm0+3uDNwIJ39KtU+Ot1/IlRDwcCQEAAKqhdPFixRUaheb2LxpbfJU6sIpjV8/Y80BZlftyikojW58xQzvqc79Ws7BEF/zmHk6r7Bcra+q36jl8ZDdTdVZa0LTf68/z6/Hq4X8vjFuIm9nx798giYQdEVHep08NiRkMwyxdNPdCRFR03NXouKuqqioD+/f99MI//GKM91DY6ClGv++vx/f+PM3N5M1+rOTabztKB0121mS9FqqLeI8CR/t0c+rY+7t5/z7w5m1W/9sfeSXc1/mN8YWyqMjSMRt+O3D8xy4ZO7dHM0QkDl+7IKLh4uPhZ8/sGcfeNX9/OhGx7h1eda3lpjMnT5w5usot8+K1/Pd/CRATft2km6vhq5Ul8+mBR/euGOKi92bHVhy18YDO5ElWmh+1suKI33a8GBl09vjJcztG6cVfT3nPrOFrF0Qb+x8/efbMgf+pBk/flEhE4qi1M882Wnw4PPJK0AK9izMCIgv/qXMTTy/DuJPXJQra4nzrXt87G1Zmnsh7zdpYvKuTz+/mH3745/ndzfmvBwReU/f+AhMiInHKyYOXNVw9TN53QkOJckKXLo8XrFzlrvd2YyQePf/UoasNYgYAAMC7+nznwit+ELbz/IrVYBiLwSs3bd2yeeuWzVu3rBjVJGPHwWvPv3IIs52wbcfeXTv2/rZpoaDs2K8nH75jRmH7HpX55OzZmhMz5s6c2qSxoYe7gIhUVVUqXipkEZNnzDt3Mert6TcSEj9k6BR9gXtPSe/t/DnL+8fZerzX6skzaOVsZTxsQm8b3qPD86dPWtc0bIWzpiIWZ9m7qwmPGGpiYyI7IBIT8RKjbmj33tmOT0S6nv3a+G+MzR5jYsTlqxZEHD6bONbN2qL/0gXvD7uUcSulfosRuv8ei8VxP+3mTPnFQZNOfdTKcnk8ehR17qplt3YmrjNWvGdRkvioG9p9Aq15RMR37+e4ZEVUClnkhsc16hNowyciXWe/4DAJ7/UFGVo0Vwq5l0POJorcwpLUPb6rsjpvWf0xpbKurxGMPZqvbT9tg6/1e3PCs/A1a6VSaZtHQrJ+9dejfH9H//Y7iKSlGvbTNjjpEgAAALwjaaSmVvxQYO1aQ6rEkhWXFMu4ysrKRKzitPB9wdG5UllxsUTTfMCEUQ6Pd0473dxvsUCPHgcvWvOX7bz1/Y1ZogvL1uR+HzDM8rPVSlW3kdbrlXytYjZl5TuJiEh0KniahiYJc8U5QnXByF6yPy+mC7OEXK8VP4+3UWEJr29fsT4kXULE1Xca5zff3VDRlXwjZlS8VGzMIKKSktKSkmqu/36clS1878CqL5Q0WJQRvCmlx6JJb3QBdQQzAwRERAxZfD+h6865UY/IWSEj7LV4Fd3VV51WqUgsydo7we1gZbdYplFPRGTY9PvNfszWPX5eS0X1HfvOW/y/ju+7QkAkEvOt9P69z534W+DzQcs78onEH7eyPPeFGwu37dg0eUsKNe02fv5SL8t3dL+lYrFEj/9yyBefryV5JiapWCzRejWReJpv/LKOQQPRYyGR4pKGOOnnaVOumC3dOsv6o84nMG3mR96ckROzY/Gsqbzte4abvnMryHV6bdvqEDzczy+0zXavyj8hWfMfjgSPMiESpx5bPGPChg1BMy1Z+CwBAACopleWm1PxQ6le469ZjbLUA3MnHyAiuYw0G1m0cps1vJ0akfBqeCy/1/zxrdWoOGn3st/PPXb0bmseGJVc7KpXkppcrFqSmiokY+WkxAKrHmaKrVNZws4pk3YSkVwm4zQSTLZ9veP6esUeb5pGt4iIVItLU5je53c7a+Uc+L7P9hs//bHdV1N4ZELnXbEjN1ufWbLsRtdtpzcZsijn+PTxcw9bBH2vyKxRbcx49VKBC7Iwb5Zy74HXW9NT7j2wMG/29ZMG5caGJSY9+t5tMxGRVFIU4T1MvG/fEH5qbDbfycagsoPOfMbB9XwdHb7p+J3BQ99od56B8wh/5xEkyYlcNW1eQJvItc6fWAkW3T8Tk/JnaH/nVUQkFb+glM4z5x3+0UUU9+Ery/AtvOas95pDosSDc2auCW67Z5hBtV1nLp/PyxOKiTSJiMSi5/zGusQt4vPyxS8nSoTpIp6JQdULUBQ5DFKSumfazKu2m3dNteH/9+YS3jgUXuoyxMmQeAbOPwywPhwULxxu+s48V9+hq4OBtcXiC/0Wrw5x/vmNa8f5Fj29bX7ZFPNopqUJAQAAwNufvE+eVH5+azf8itVglCwGr5vlrsV6nhT84+4UfRenFlpERDqCiTMyb9+IupCb+zjzoaTYophRM3c0C4pOKrYuuUvO3eyu3kl53o4ShK26myortk5KtmO3TO6gTEQy0c3ggO2/hi+d3/3lm69XLD9XeRQREakUy1q5WWkSkY6uDmPe3oZPRHq6fLZULJXcuHg1/07W/3ruJiIiaWmR9iMihQWALxYzFOLzPk+D0R8UdCUq5kpUzJWo2BXuPPv5IfuGmBCJzm0c57snRUwkeRS851KZs+BDrkuSfNQVBtZubf4+cfCWmIgkj06sXhCcTkTi2DXjNsUXEhHPwMJKl/Uv/W8dHb74cf6/rSy1nnc8snJlzyxso+668uIGb13Wh68sizL2z1gYksMQka6JhQH37Rmkr5KSg8D+afgfiRIiEkYcva7u4GhCPAeBfUHlyopjVo0Z+mvVu/KKcvL4BooaYiS9/tOs4Ibzt1YTM6RRy107L7j4/u3FE1/fs/qniGwikuacD0usZ2by73mFL5g3v+Pj9UtOCqtOF6efD7nGMTXRxwcJAADAO/oZL7+kY5iaUB0tqwGTeqpf2bb/ejERUWaY/+LdMc+VtSzbe3S1qqdMRKRm1c408+adpCShqZ1TG7O8pNsJ17ObO5p9vsvHlXXtOrXRyrrz+J/Hdb9esc6t/hlXxX3317cMWYzZ+sfpE8dOnzh2Ovjg0XnOCqzilm07v1jM0NXRrvb2U0JRge4H3HiKFHnvKeGpqQPXx0uIpEVimuB8ksvrtj5isUO1M1uO81+4cvXEHjskpGMsmLh1jsO/nU9o7tI2c3lPt818fpfVJ/z0Do0a+1uqhEhaIrnW3XkVj9874Oxci3f1TTekLfL9vreUiNPUdcbipkSk2aZvpyN+A3oUconK9V2Xr3XivS9CNLGxfBqUKiQbvVeRYN8Po35NKSepVCylAR13yPX7/h481fLTVpahJu5e/MWT+2wjYkjHauT8Aa+d0DCwttfZPdU5nMuymnJ4az/DbvNWpy5f7NNbSlTPasTGaZZExO82b0Pqct/vu4ml3PqtB25dUeVETXbq/TKTjgYK2uIxR09n/l22pIdgCRERyZqOCNw3qrIFJGKxuEQiZYjHIiJW7HLBvAgpkaSoSJro5szldVh45EdPV981jxYHjHZeIGb4Te0HrZzZ9kNuisV3Xzj/4vfLloU5/qJFyvd/8bL7hYirodO0zaCVK9xVCAAAAKrtZjRsyCoqIiLe0yfFqjXiDq36HkP6xKwIPHC75dhGKTdyG3lM6elcjyV7HBwolBkREam1tml89ORJxmSosXozq0Z7j5ykViMnKX/GKj1LjUsUNmynr0wlFV0+4esVu3Q7s2K2ErV3V4LXupNNxq7dsT5LnLUk934c88P1fgcUNXoq5d59kahgyoQxX+Zshq6Odkx1SUP0wUmDxVSXazOzn+jpauNv8hVx+BzP4PYhu/p9u9ccsyhj5/Dxd0aGbPiA7ni+sAA7AAAAQG3C6+zOjokmomsBFwpsFHxReN6TJ/r6/z6ygFUcu2p6bPuAWe5ald+lytOCF69Naj3Xt3dxyKZ9N0o0tTikaqZXEvOi0/qZzlr0PHrjou1Kw7f9r5266ILfwhONJq8fZ/1B5zT+zv27kX6jf6+S6ILf3MOZnMrkoKxl2q7P4KEuBtyXd7lVSwp+VbHezJ2Fl3YTUb4+f/623G09VFiSc5OcQjtHbumryWJFzrE97HJpm5eWMO5H3/Vn0hkiaiSYsvbDrghPT3/U2Nj4/fMcCD52IeLSupVLHmdl7/r9wOceNBV6Kiz01Nnd2za9MX30hGlevbp79fr3m5ghaXxYN11ye83ApSULg5a1/Va/NRfHLvfZ2HjHhz25D0kDAACgllGePImzaycRPRy6+MHwpV8laXxJH5g0/hOzvUtN9vsTUfm48WW//KLYwj8kaSz1XysqeFrxnD4dHe0pE8Z+1mszUu7dX7dhi4tju9cf0icSFUTHXZ07c4ql+b8/Zp6DP7wPwfBaT1rcdtDaLYn7Zlt/gw9tYInjNgak9Fg2F5dLAwAA1E3lXbvRrp1EpHc1TOFJo47Q/etMZc/Q8+s8k6S4pFRHu75Th3b2tlYf0tH/RJbmzW1trKLjrr4x3cK82QcuHec0oBo4pwEAAFDbiMWqhvoklRKLFb0j8YWxIp9IURfOaahn3HUca00MQzye7EkeqasrtsIfck7jm8PG3x0AAABA7cfnl1V8E88wZgdWoz3+K5OglRW37Srv1UvhMaO2QtIAAAAAqBPk8xZU3Ou2UdRh9ax7CiyZRazy8vJa3HTqGXcbRh0hImKxyucvUHj5ZWVlLFYtfPowkgZUA0OnAAAAap9ye/uybt2JiFVeZr1mOEsuU1TJShyOXCarre3GKpO3XD+WVV5GROW9ejG2tgpfhFQq5XBq4eXTSBoAAAAAdYV8hT/xeESkee+66eF1iiqWp8IrKnpRWxvNJGiVVvJfREQ8XvkK/8+xiGfPnqupqSFpAAAAAMC3qtzKSrZ0WcXPZkEr9a6GKaRYVVXVsvLy4uJaGDZ0/zxtErSy4ueyFSuYVq0UvgiRSFReXq6uoVH7Wg9JAwAAAKAOkU+fUe4qICKWXGaz4vv6t6MV0KFks9XU1Z4/LxTmC0uKS8rKympHW2ndjbPyH8QqkxMR4+JSPm26AguXyWSFhYVZWdmFhWJNLS0lJaXat7PhLrcAAAAAdQvryd88NwErLY2IZBr1r68+89zC4VMLZUgqlUolEqlcViYvY5ivfIE4iz71Amvdhzfd1w3mFhcSkaxJk8yDh8t0dRVYQzabzeFwuDyeioqKiopKrbwiHEkDAAAAoO6FjfR0npuA9XcuEZVzVZLm7PrbdcCnF1teXl5eVl7OlBPzbbdPo7gT9j+OUZIUE1F5I/3Cs+HlTZooeBOwWGw2W0lJqVaezUDSAAAAAKi72ElJ3O7dWCIhETEs9r0f1jz6bjrVxm/W/xuGMTnyY/Ndi1hMORExunrS8HPln+HyjDoRaJE0AAAAAOpoRzA9nefdh5WaWvFS1KZL0uydEh2DOtsg3KdPWm8Yr/fX6crQYWYmCTnBNG+OXQVJAwAAAKCO9eSSk5UXzGflPSEi0uATh0NEjIY6KSsTEampM1wuEZGaWsXNbeVjf2CaNq1SQoGI278/O6byunCplt7d6VufOHvXwcZseOWPlpuncJ8LK16Wd+wkPRzMaKNLjKQBAAAAUDc7cyKh8vhxSqdO/dt8LNnadfKp06p5SyJRXrqEs3kTvXzOd347z9QJ618YmdeRNlR/nGq5bZbutfDK12y2fMZM2dJlVJHTAEkDAAAAoM5SCtrP/d8UKi6u/m0uV7prT1n//u8pgX0pijt2DOvx44qXDEc5s8+kh0MWyvi1uU+oLC4wC1ppfOLXV09MZ4yNpbt2l3fshJ3q0+F5GgAAAADfPMbMrMzNvfr3+HxJ6In3xwwiKncVSK5dl4/9gZSUiIgllzU5tqnT0GbmO+bzCnJrX4vxRDkWO+Z1GtqsybHNlTFDSUk+brzk2nXEDEXBOQ0AAACAb7Ynl52ttH8fZ/8+1v371ScQbR1pSEh5u/YfXiY7MVF59iz25Uv/hBCuSnbX4Zlek4uatKwFjabx6E6TkC0G5/exZZJ/1lHgJgtYX25lhZ3qsyeNrNz88vJytA4AAABATezAlZaqnT2jfiRY5cplenefTd64cV7QIbmp2UcsQi3stNaP65VTkl+fKDJvm9Z5+GMnb7mK+jfXaJzSF41jj5teDNS5F//6dFmLls9nzS7u3gP71RdKGpnZTxo10EHrAAAAANSsrtuNG+z9+5QOHiSRqMobmprlvfswzZop+S2rmMBYWclPnWL0P+GWtQzDPnNaae1a1p9/vj65TI2f59gn38Vb1LZbGU+threYUukLnWvhDWJC9OJOKhWLq6yfo2PZ3HnlPXrgKSJfOmkYGzZE6wAAAADUCDk5dOQI7dpFSUlVprPZ5OhIw4fTkCGkrk7z5tG6dUREHTrQqVOko6AvjqOi6NdfKTSUJJIqkYOn9rRdN6FTn2f27qUNjGtUg6k8yah/46JOzAnt+HNsSUmV93g88vamSZOoE67HQNIAAAAAqJtKS+nkSQoMpLNnSS6v8paxMQ0aROPHk4nJPxNdXCgmhnr3psOHSVVVwZURCmnfPtq5k+7effvNEn3TZ7aCZ7aCwtZOJfqmX+EsAcOo5qZp3o6tnxBZLyFKJTe9mnlataKxY2nYMIVlMEDSAAAAAPjGXL9OgYEUFPT2KCny8qLhw6lz5zd78xIJ1atHAwbQrl0Vj/D7XG7epOPHKSTkzRMsL8nVtYqa2RY1tytqZvuiSctSQ7PPcatc5UKRSk6aesZdjfs3NR4kaDxI4Lx4Xv2s1tbk40Pe3mRriz0LSQMAAACgTvrAUVLVio6mI0do48Yvdz7hwQMKCaGLFyk6moqK3jOjXKNeib5pqaFZqV5jmZauTLuhTFNHpqUr09JlOMplqhrlSsqMEqdMjU9ESsViVpmcXSZTKiliyWXKz4WV/57mKT8XquRlquSkqeamcYqeva9uGhrUsSN17kze3mRmhj0LSQMAAACgTvqvo6Sq9ewZ1av3deovl9PVqxQVRVeu0PXrlJ//daqhp0dt2lCnTiQQUNu2n/fEDiBpAAAAANRoHzFKqubLyqKbNykhgRIS6MEDSkt7/xmPj6ShQaam1Lw52diQnR3Z2ZGhIXao2pY0Lsf8eeZcREZmFhE1MTZydeng2cUdLQsAAADwTp8ySupb9OQJpaVRWhrl5lJeHgmFlf9EIpLL6cULkkpJLiexmIiIzycOh3g8UlMjDod0dEhXt/KbvzrQAAAgAElEQVRfgwakr0+mpmRmRg0aYD+qzUnjRXHxirUbMzKzjBsbtrQ0J6K7KfcyH2c3MTbynTddXU0N7QsAAADwD4WMkgKoC0lj/tJVefnCiWNHtLW3eTXx2o1bv+78vYGe7hq/hWhfAAAAAKJaOkoK4L0+/kKZS9FxGZlZM/83/vWYQURt7W1o7IgNP/92KTrO1cWx2t8VP4w+cvrq3ZwiGUdFu4llVy9PxwbKClqjB7sXRzSZO66zZrXvltw7ffSW6dD+LVgFETvWPHFdN8j8zd+dOa7ze+/DVnDt4E+h919otBnRLico23XdwPJtfpdbzh3XSRO7EwAAAFRV10ZJASgoafxp3NjwjZjxKmwYNza8FP1n9UmjJOXInqvMwJGrW2srk/hRxNHN2880mudlovwF1rc06+Hfz03f9W6TfjP7c/7lds+yewkP6veYvsJJk0qeGsk0iB5iNwIAAICqPQ6MkgL4hKSRnHq/exe3d73b0tL87PnId/3xPZerNK2voUxExG/q7j2hvlCViEiWfe3UgYj0EiJG1cjFq3fnJqpU8vjcobA/80pJXipVbdpz5ABHfspuvwiZmTztITmM/V+vspjA0KtZJcRwdNv08/YxI6LS5BO7YzKExXIVQ4H3BFfjVxHmSdypyBxx8bEdR/qO7ExUlp+we8Ope+JSTv1W/YZ62WpnHN0Q0WTmuM6qj0L2n0kskJOcVMwFY/pbv3qM5P3Te09nyIrz9m+WeQ8tO70223XdwH9CSDX1BwAAgDoFo6QAPj1pfDzVVgO87v/+6/rr2kYmxibmrZu1sWuuRiTPOLvzCnf41JkmqlSSEbZu/5nGc7/TTYi6qSGYPcpcjUru7t8SdDnTsSeR/NkLiwlrR/HlstTAVTf4QyesMFOTPwxbGxJnN8uU6NkL/X4Lhhqw8qLXbo661W64w8sOf0PHXm7XdqZ1+aF/C1ZBrrykkLGfOnO0Zsmt/VuOX86x9a6cTZwQeVnJxX+etZosN+Jw3L0Ca8eXJzqa9xzaM2f91TZjp9pzCyKqrFa19TdXxj4GAABQB2CUFIACk4ZxY8Pk1Pvvejc59X4Li+bveFPZ0LH/QscSUcaj+w/T757bF3K61fhJPdVvPxIVyPZtrhiMJC+W13v8lMwdh03MTk6Mu/J3du6jjBKZqZyIiKNrY6lNRJyc+w95FhPN1IiIY+a5aBYRPSBqZGtnoExEDRo1Vr77vISo+lMLHF4TO1tNIlJtbFyvOLuIiF3xBt+shfG5U6t+vd3SooVtV8+W2h/UIE+qrT9uvwYAAFCLYZQUwOdIGq4ujvsOHr1249bbl2pcu3ErIzNrwphh1f5iScr53x+YjellqtOkhU6TFh3c257bsO1icpc+clKy6LVgWMVpAFlhoVxVU5Z9eufmVB1Hxxbmds0slJ/sKSYiYoijXFHxKn/RJaK8UrUGRPShT4RUfn2214tq0GH6wlZZDx/cvZ18dPN5w++njLH6gDv2VlN/7GAAAAC1FEZJAfwb9kf/Zo+u7saNDbftCrx249YbMWPbrkA1NdV33XhKVVu14M9TgdcyC2VEJCtISbhVoNWooXLD1kbqqdGX82REJL55dOWGM/dlRakPhQ07dPd2tGppLE99+FReNVuQQXMzSerlh8VEJM+4sGVrxCMZ8/5kpUxymVz2/lV7cnnHskOPtS3tuvbz6WlWlptX+iENUl39iYiKC58Wvlzgu34GAACAb0NODm3aRNbW5OBAmzf/EzPYbHJ2pt9+o5wcCgwkDw/EDIBPuk5jyfwZy9f8tOHn35oYG716cl9GZpaqqkpJSem2XYETxgyv5tcauEwZSgfPHF3+x7MS4mg0aOowcGgvQxaHek3sGXJgx09RxGFUG3Ud1aOlsmpjd9vroTuX/6miRBqNGzSip8/E9NqZAlXLQUOFu0K3+co4HGXdDqO8WyjnxL2vynzT1rqhQes3950y9D2ZoW0Xp9QTq1deUOaQUgPXIU4fNHyKY/Z2/Yko99yvOzK7zJ9qz333zwAAAFCzYZQUwH/3SU/uq3ApOu7MuYjMx9lE1MKiuatLB1cXx193Bl6O+dPVpUP1YQMAAADgm4BRUgBfMWm8S0XY6N7FbcTg/mhoAAAA+JbgXlIAn+wz3uV24tjhRHQpOg5JAwAAAL4NGCUFoDif8ZwGAAAAwDcDo6QAFI2DJgAAAIC6C6OkAJA0AAAAABQGo6QAkDQAAAAAFAmjpACQNAAAAAAUJjubjh7FKCkAJA0AAAAARXjPKClzcxo0iEaMwCgpACQNAAAAgA+GUVIASBoAAAAACpOdTfv30+7ddO9elekYJQXwxb3zeRpoGgAAAPhmOjQSier5c+pHg1WjIt8YJSU3NXvh7fOi3wC5sTEaCuBLeuc5jZr55L6MrNwGerrYbABQm+TlC3FkA/ho7Bs3lIL2Kx08yCp4c5RUWa/e8qFDy93cuSwWFy0FUHOSBgAAAECNxcrJUToQxPl9L+v+/arJg13evkPZ0KHygYMwSgoASQMAAADgw5SWKp0+rRS0X+lc+BujpJjmzcu+HygfOoxp2hTtBICkAQAAAPBBPmSUFO4lBYCkAQAAAPBBMEoKAEkDAAAAQHEwSgoASQMAAABAgTBKCgBJAwAAAEBhMEoKAEkDAAAAQHEwSgoASQMAAABAgTBKCgBJ4wuR5CfEZOk62RmpYJsAAADUXhglBVB3sGtCynief/fOw8KP++XImR2t7Rxa2Y47LGSIiCU8NsTOwdrOodW8yP9ajZzILf+bHpRCxKLba3u0bT7mqBA7CAB8la5Y7sGKQ5m1nYO1nVMbj8Gzg1MkaBf49in7LlZpZqq8eNHrMYNp3lzmt7z03gNJZJR8zFjEDAAkDYXFjMc3Ex7ma5qZ6X7K2Qwl1u0LMWIiKoy7lPpxn+v0d9hvgecfibBPAEBNOUC3HrjCb+mK2d+1494PXz3nx1sM2gS+dZytv1B5eWXA0NKSjx4jiYwqTbojnzefMTJC+wAgaSgWr7Fde/uWRlo83kcXUa5sbtFUdjPyuoQk8ZG3JU3NLbivgsyjswET+nR0sm4v6Dp2ZUh6KRGJjk60sv1u2sqF/T2c2nTsPdD/bDZR4qppm1LLuRmBfdstiCaGiLjipF3zh7i1d3L0nrkvpRT7CgB86T5ZU0evPr29hsxaN9GJRbkJqUIW5USsnNC9o5O1nZNTj5F+EdlElHN29egeAgc7hzYde4/wP5tNRCSM2Ty1T0cnazsHJ4+Rs0MrzodIUo8s6u/hZG3n5Dp8weHUQiKKnNmxVecp/ktGdW/v1MZj8KzQ9NfnbNOx98SAVaPbO7j5JxKROP73aT5uDnZOTj3G+4WmS4hY937qbufQb8bCPh2dnH1jHlVTE4Aq5JOnkIpKuUcX6Z7fSx9lyrb+Wu7ohGYBQNKouRhq1NZBvzgpKl58/eK1QgMHRwOquIBMHLNq2pwD6fr9lmz0G9kiJ2ThWL+LYiIiFivjen6HFYcOrHSR3zm643AK03TkpD76rLJGXVZtHW9NLCJiZ9wudJoUsKafUe7ltduiCrGzAMCXxZKKhUKhMP166NlUhjSMdPmUeulIfH7zkQH7f1/qTncObv4jlW5sXX8sXv+H/adP7J3qoCq6cS2NYd07vHZPrFK/zWGng3y76Yrjb6dLSBq7dsKqeO1BAft/Xz+c+9eyST9fkxARsQtu3zefsfv4em/+/bCAvdeIWPd2zlkV/rf5DwE/LXAX/RUvJSJiCc8tnrHlTpPJG3//bYmb9MSy2b+kVJ5jSU5hhi5funYoe+dbNcFGhDfIlq8oeVYoOXW6bNAgUlVFgwDUbrXh3lMM8ayd2tQ7Gh9xhBdfpN3WyVx6goiIRbdDI3JK7eetnNZdl6gtKyFm/qVj0aW2RAxptOvX21KXZehkTmdT8sWkaWlhoskqK9W3dGiqSbeJSGLed1IfZyPSctA5mCAukmJnAYAvS3Jusfu5ih+5DbvOn+WuwtCgjb9YRMQkhh29nihmWFyxhBpZm/BPxP80ZOzpttZtnPv0dTdlkbi1pQ7r7N6pQ6KsrB0cvYYKLHmUFPWniETXt88ZvZ2ISI3uJGQzzYjKmdY+XlYGfJaLpcqhbHGhhLLjb6STznfjR7rbsFiGI0LCV+UQSW5fiClipHEbpscREbG4lJwqpBZERI27jxjgZsminJy3awIAAEga3zqelWNb7qnQ306VKHeY7sCLqHYm6evfrvE0/224FsN9bUQXcgYAfHGqjpN/HGJBPL6uQVNLAz4RiWOX9598liPoO7BbL+dHf93PJyKDAVuCLSPPhcVeT4w/GRD+x8lZR4KHugYc39/97PmI2KTEs1vmHTmZcuhoJ6Jypvn4gwd+MGVJxGLi83lEkUTE5WryWUTEJW7VY2Zl3nl9WvuFZ3d4aZJEXEh8TR7RPSIiTR0+ETHV18QQ2xEAoM5i147VUObbO1vzpFIpy0rQllsZEBhq7emiq3Lj98W7z0acPbD419hibde+Lu+68lyZxyMl4b3oyCTccgoAaoIyHXMXZycXB6uKmEFEObE3shl955FTBjioiIQMSUkqvrR44NDJJyTuo2atnOvelKSFIrH0+i/9fKZuT7cbM2fBEi9LYhUVislCYK/Hun/4tz+uJYavGO5u67k+8R13szJ0sDch0dnNP4ZFhu/0/z2JiIh4rTu11WBd2/NzWGLSkQUDnNoP2lF1cBSruppgIwIA1GVf/ZyG5PHNv7IkRBKSEMX9mabCM7SzM/vP96Hi6bZzMqH45GZubXR5mS+n8t0XbvTX+GnXnuXTpdxGVt6rFs3qzKdqby/FkIFLb8fGAdd+8T9g5jAYewYA1ECWgyd5XVv9x0j3k02t2ho0YidmPJQsnDT1umjzoYl9f5Fo6LfqOn/daEsuX3fe4PS1B+Z4HZQq65gLpqyc2ZbFp3mbZzPL92wYE0X1LTyWrRlnzaNqbwfOmI8NWJgzZ/OxxUviXPp0sIg9JeISo9vL/yfR8pUHfEec5upb9V89f7gpq+KcRuVv8V3frgk2GQBAXcZimGqu2MvMfmJs2LAGVjcjK7eBni42GwDUJnn5whp1ZGOlHlu0LZ6x6vS9s4k0fsec9bHNloXu8NLDlgIAgP+EgyYAAIAqLNo4889t2rP85M9SZQ395r3mL+yOmAEAAEgaAADwaRhq4rl8mycaAgAAPg0bTQAAAAAAAEgaAAAAAACApAEAAAAAAEgaAAAAAAAASBoAAAAAAICkAQAAAAAASBoAAAAAAABIGgAAAAAAgKQBAAAAAAC12rf3jPC8fCE2GwDUMjiyAQAAksbX18RIH5sNAGqTjKxcHNkAAKD2wegpAAAAAABA0gAAAAAAACQNAAAAAABA0gAAAAAAAEDSAAAAAAAAJA0AAAAAAEDSAAAAAAAAQNIAAAAAAICapCY8ua8w7+7Dh/niUh5PU69FGzNNbBUAAAAAgG/d1z+n8fxhygMysnPt5NbBVCs/+U4hNgoAAAAAAJLGJ+NpGjQz01MhItLT05RKJJKPKESadnRU57mXX74UXtk0uqe7wMOr9wjfA8nPX5ux8OoaH9PJYZXLyI70HeHt6OHVte+YRafTqllwdrjvQG+Bh6erz5wDd0v/mS5JChjo7ZfAYAcCgM+p8Iqfj9f2tHcdfIRX90zs6ynw8HTtOXTOsTQJGgwAAJA0XqeiZ9SAV/mZml/I1eTx/usncfJx/8Ej18aJX/b788N9Z0foLzkcdSH0j2WWp2YFXHp5nkQYtsr3TP6rGLF39tIk59XhF0LP7Z2uumvmmjeTw6O9szY9GbYj6kLYH7PU9szelCAhIhLeOjq976Q9KfhMB4DPSJodu33KwGnHs6Qvp7x58JFE+s8O019yKOpC2PmfvUUblxx4iK8/AAAASaMakry7yXl6LZr918s00k9uu6I/7efp9q+m5Mbf1hEMaa9HRFwTZ1eVuJMVESI9aOre+nMm27yc715CmrFXT0tNItK06t1OHnUmpUrJObEns1sN9dAjIl2XwV1Zl0KTGaKkP3bcsl26ZpQpC3sPAHy+Q+LlwP0ZnVev82nArZzy9sHHpO/SxRNttYiIa2plyi+4L0a7AQAAkkY1MSPhAZnaf8Tl4CZDNm0Y09HwtTMhBlbNRVFBl7MkRMJroefTCvOEhVQY778gosvqae15rz6kzW1NM0MPXcsnovzIA1eynghFVUoW5uTxDXQrC9Yx0ivKFxKR1fgtK0a2M8R16wDwOfE8Fmxd6WOjSa8OWW8dfHhNO3W21iMikqQFbz7B7TLUFt+AAAAAksZbMeMxr4VTy4qrNT6Zbp91690LNv4g8PD63zF9Oxu2Cq/olF9A5rA1o0xfX4LhyPV+Domr+nTy7L3oSsu2Vio87A8A8M0pvLVzysi99f23T2+JxgAAgJrk69/ltjQr+SPPZrz7c5cxHLLx2DQeEVGSf08dY43YY9HZCdE+9suJJGIlSnAeLjwcOEyPzMdvD1nMIyLJldm9GpobiEOm2C+8QkRS/cEnAo30xMlCCRGPiERZ+doNDLDDAEBNIkk9OGveL5LvthwaZoszrQAAgKTxRirIyiqUSApv/plc8ZrRs3X6xNQhubd53Arl9YeX2KoIw/acYFy3u/a3/at/xZvikCk253vG/OLJo8LTa0bscNgeMsJUmn5029WGAyaa8M223Pd+VdCjboZB+09ndeprJI4+eq7UPsAMIxMAoObIPjh1xr4mC48vdNFDYwAAAJLGWzSbdejUTLFF8hymLXWfu8hHQFxl3Ta+W6bZvmPRPecv+nPWTEEww+UZdPZfM+rNINF01KoJaQvHCbaWMjzrkT/62WJ4FQDUGNLo7QFXssV/zRAEExExxO+x+eL6TvhCBAAAagoWw1RzV8TM7CfGhg1rYHUzsnKbGOljswFAbYIjGwAA1EpsNAEAAAAAACBpAAAAAAAAkgYAAAAAACBpAAAAAAAAIGkAAAAAAACSBgAAAAAAIGkAAAAAAAAgaQAAAAAAAJIGAAAAAAAgaQAAAAAAAPwnnG+uxhlZudhsAFDL4MgGAABIGl9fEyN9bDYAqGUxA0c2AACofTB6CgAAAAAAkDQAAAAAAABJAwAAAAAAkDQAAAAAAACQNAAAAAAAAEkDAAAAAACQNAAAAAAAAJA0AAAAAACgJqkJT+4rfHz3YVa+uJTH09Rr0cZME1sFAAAAAOBb9/XPaTx/mPKYjOxcO7l1MNXKT7hTiI0CAAAAAICk8cl4miatWuqpEBHpaWqSRCL5iEKkaUdHdZ57+eVL4ZVNo3u6Czy8eo/wPZD8/LUZC6+u8TGdHFa5jOxI3xHejh5eXfuOWXQ6rZoFZ4f7DvQWeHi6+sw5cLeUiEjy6NjCYd08PAUenr0m7/ozH7sQAHw+hVf8fLy2p/0zQZIUMNDbL4GpeCVODpre11Pg4enac+LayzgeAQAAkkZVKnp6WpUfqVlZhXwjTd5//SROPu4/eOTaOHHlRy/lh/vOjtBfcjjqQugfyyxPzQq49PI8iTBsle+ZVx/G2XtnL01yXh1+IfTc3umqu2auefnh/dKjvbM2PRm2I+pC2B+z1PbM3pQgobR9C1blf7frQljUhcNLGpyatDpagp0IAD4DaXbs9ikDpx3Pkr6cIrx1dHrfSXtSXh11Hh1YtLt4TGDUhbDzq80uLNp0GccjAABA0nhL/p1LlyNvZvPMWjb4r0Ej/eS2K/rTfp5u/2pKbvxtHcGQ9npExDVxdlWJO1kRIdKDpu6tP2eyzcv57iWkGXv1tNQkIk2r3u3kUWdSqpScE3syu9VQDz0i0nUZ3JV1KTSZ0Ww78scF3Y2IiDRbtDOUCIUY7QUAn4HkcuD+jM6r1/k04FZOSfpjxy3bpWtGmbKqzCeRVP7P5f7nL2oAAADqQNLQa+Xaya2DKS8r4fZ/Pf9vMmTThjEdDV/7gDWwai6KCrqcJSESXgs9n1aYJyykwnj/BRFdVk9rz3v1IW1ua5oZeuhaPhHlRx64kvVEKKpSsjAnj2+gW1mwjpFeUb6QdG26uZqqEBEVxq/bkub8vbMediIAUDyex4KtK31sNOnVIctq/JYVI9sZvnbTjKajlg59sdbHvpNL+x+iLRdMtEWzAQAAksZrJM/z8ysvpODpNTPi5eV/8lBj3T7r1rsXbPxB4OH1v2P6djZsFV7RKb+AzGFrRlWEhEqGI9f7OSSu6tPJs/eiKy3bWql88NeB0uzweYN87w/48eeeCBoA8JUUxq5YGGIRcObG5ei/fh9QsHzGnmwGrQIAADXHV7/LLU+Slfy4kNfGTJNI8jirUEuvxad//DKGQzYem8YjIkry76ljrBF7LDo7IdrHfjmRRKxECc7DhYcDh+mR+fjtIYt5RCS5MrtXQ3MDccgU+4VXiEiqP/hEoJGeOFkoIeIRkSgrX7uBARGRMHr9hGVXLebvOORhhB0IAL6a1MgoRvBbJz0i4tt8912L30ISCkcZaqFhAAAASaNSAzvbwpvJcZckpTyepmaLVkafPNBYcm/zuBXK6w8vsVURhu05wbhud+1v+1f/ijfFIVNszveM+cWTR4Wn14zY4bA9ZISpNP3otqsNB0w04Zttue/9qqBH3QyD9p/O6tTXSBx99FypfYAZS3xt5eBlWSO3Bw6ucnoEAOCLM7FqLtp/MmF0S1staXbU+WRjx2l4HhEAACBpVKHZzK59MwWWx3OYttR97iIfAXGVddv4bpn2jrHLmj3nL/pz1kxBMMPlGXT2XzPKjFV1hqajVk1IWzhOsLWU4VmP/NHPlpe9d8PR9BzOyr4dVxIREdt6aljgMJzaAICvQLfPuvXpcxf5OEp4XJ6By7w1o1uy0CoAAFBzsBimmnG9mdlPjA0b1sDqZmTlNjHSx2YDgNoERzYAAKiV2GgCAAAAAABA0gAAAAAAACQNAAAAAABA0gAAAAAAAEDSAAAAAAAAJA0AAAAAAEDSAAAAAAAAQNIAAAAAAAAkDQAAAAAAQNIAAAAAAAD4TzjfXI0zsnKx2QCglsGRDQAAkDS+viZG+thsAFDLYgaObAAAUPtg9BQAAAAAACBpAAAAAAAAkgYAAAAAACBpAAAAAAAAIGkAAAAAAACSBgAAAAAAIGkAAAAAAAAgaQAAAAAAAJJGdSR5Ny9H3MzHJgEAAAAAQNJQnPy0LAkP2wMAAAAAAElDgQofZDFGZnyVj/19adrRUZ3nXn75Unhl0+ie7gIPr94jfA8kP399QVfX+JhODpNUvMqO9B3h7ejh1bXvmEWn0yRvl5sd7jvQW+Dh6eoz58DdUiIiyaNjC4d18/Dq5uE1cNXFLOxBAPA5j41X/Hy8tqe9PCJF+o/wFvT0cu05dM6xykOW8OqeiX09BR6er08EAABA0qj0/OHDUqOWDXisj/skTj7uP3jk2jgxUzkhP9x3doT+ksNRF0L/WGZ5albApcKXCSRsle+ZVwO0svfOXprkvDr8Qui5vdNVd81ck8BULfnR3lmbngzbEXUh7I9Zantmb0qQUNq+Bavyv9t1ITT8wqbuSX5+p59jHwKAz0GaHbt9ysBpx7OkLw9gx5YvjXffEH469NLvA4QbV/6RzZAk0n92mP6SQ1EXws7/7C3auOTAQwZNBwAASBovSdIeSIxa633sr6ef3HZFf9rP0+1fTcmNv60jGNJej4i4Js6uKnEnKyJEetDUvfXnTLZ5Od+9hDRjr56WmkSkadW7nTzqTEqVknNiT2a3GuqhR0S6LoO7si6FJjOmYw/GbPE2IqJCcZZEWYuPEV8A8FmOjJcD92d0Xr3OpwG3copu39/OHx5hyiOSisUS4nK5RGTSd+niibZaRMQ1tTLlF9wXo+kAAABJ4+Wn6eO7zxub6X18ASZDNm0Y09HwtR6/gVVzUVTQ5SwJkfBa6Pm0wjxhIRXG+y+I6LJ6Wvt/zpyY25pmhh66lk9E+ZEHrmQ9EYqqlCzMyeMb6FYWrGOkV5QvJCLi8ejWzuGCLqMPa4wc3V4F+xAAfAY8jwVbV/rYaNLrJ3t5PHp0cIq3q8/GZ91HddVjEa9pp87WekREkrTgzSe4XYbastB2AACApFERNPLzJeKHNy/H/Xk57ma+pDA59mZW6SeWqdtn3Xr3go0/CDy8/ndM386GrcIrOuUXkDlszSjT14OB4cj1fg6Jq/p08uy96ErLtlYqH3x+wmZsYNRfYT81PjRswcVC7EQA8OU0HbQlJO7yr07xC6YcezUWtPDWzikj99b33z69JVoIAABqDM5XXj7PyL6D0cvPyuTYh7pOdnqfXGghYzhk47FpPCKiJP+eOsYasceisxOifeyXE0nESpTgPFx4OHCYHpmP3x6ymEdEkiuzezU0NxCHTLFfeIWIpPqDTwQa6YmThRIiHhGJsvK1GxhQ1tXwh7qurqYqRLoe3g7spYlZ1Bkf7QDw+QkTziRyXdxbahJpOnzXUWvItXTqq0eS1IOz5v0i+W7LoWG2mmglAACoQWrjk/sk9zaPG7M2oZSIhGF7TjCuvVz77/4r+sZf0Tf+ir60rGOZ86KYwGFmVHhlzYgfDqURkTT96LarDQd0NuF7b7l/99b9u7cyLs6zMXTuZnhj/+ksIhJHHz1Xat/HjCWO+W3W6hNZRETCC4fjlW3ammEnAoAvcmhLDl628FCyhIgK4/+48tzBxYQo++DUGfsMZh/fgZgBAAA1DqcG1UWzhZOdIsrhOUxb6j53kY+AuMq6bXy3TLN9x/J6zl/056yZgmCGyzPo7L9mlNkb45ubjlo1IW3hOMHWUoZnPfJHP1se0aQNC/18x3jskRBptx21c5kLLgkHgC/CcNBKv4cLF3QLlhDxLYZtWN9TTxq9NOBKtvivGYJgIiKG+D02X1zfCZdqAABAjcBimGpuiZiZ/cTYsGENrG5GVm4TI31sNgCoTXBkAwCAWomNJji8jAYAAAAsSURBVAAAAAAAACQNAAAAAABA0gAAAAAAACQNAAAAAAAAJA0AAAAAAKih/g8R5lG2Rm10UgAAAABJRU5ErkJggg==)\n",
        "3. Copy that URL\n",
        "4. Use ```pd.read_csv``` or ```pd.read_excel``` to import the file."
      ]
    },
    {
      "cell_type": "code",
      "metadata": {
        "id": "wCIMfqx61-Ue"
      },
      "source": [
        "url = \"https://raw.githubusercontent.com/jbrownlee/Datasets/master/airline-passengers.csv\"\n",
        "data = pd.read_csv(url)\n",
        "\n",
        "data.head(3)"
      ],
      "execution_count": null,
      "outputs": []
    },
    {
      "cell_type": "markdown",
      "source": [
        "# Acknowledgements & Licenses\n",
        "\n",
        "This notebook was created by the QuarkNet Coding fellows, and is intended to be used in our teacher workshops.\n",
        "\n",
        "The development and implementation of these materials and workshop were additionally funded by generous support from IRIS-HEP, the [Institute for Research and Innovation in Software for High Energy Physics](https://iris-hep.org/).\n",
        "\n",
        "This work is licensed under a\n",
        "[Creative Commons Attribution-NonCommercial-ShareAlike 4.0 International License][cc-by-nc-sa].\n",
        "\n",
        "[![CC BY-NC-SA 4.0][cc-by-nc-sa-image]][cc-by-nc-sa]\n",
        "\n",
        "[cc-by-nc-sa]: http://creativecommons.org/licenses/by-nc-sa/4.0/\n",
        "[cc-by-nc-sa-image]: https://licensebuttons.net/l/by-nc-sa/4.0/88x31.png\n",
        "[cc-by-nc-sa-shield]: https://img.shields.io/badge/License-CC%20BY--NC--SA%204.0-lightgrey.svg"
      ],
      "metadata": {
        "id": "6LEhkX8MRPTv"
      }
    }
  ]
}